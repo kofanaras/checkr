{
 "cells": [
  {
   "cell_type": "markdown",
   "metadata": {},
   "source": [
    "# Introduction to Probability Theory and Statistics\n",
    "\n",
    "This part introduces the basic concepts of probability theory and statistics. An understanding of these concepts will help you analyze and interpret data properly. After reading this material, you will be able to answer questions such as the ones that follow. \n",
    "\n",
    "\n",
    "__Application__ - Measuring the performance of a computer system\n",
    "\n",
    "\\begin{enumerate}\n",
    "\\item How should you report the performance as a single number?\n",
    "\\item Is specifying the mean the correct way to summarize a sequence of measurements? \n",
    "\\item How should you report the variability of measured quantities? \n",
    "\\item What are the alternatives to variance and when are they appropriate? \n",
    "\\item How should you interpret the variability? \n",
    "\\item How much confidence can you put on data with a large variability? \n",
    "\\item  How many measurements are required to get a desired level of statistical confidence? \n",
    "\\item How should you summarize the results of several different workloads on a single computer system? \n",
    "\\item How should you compare two or more computer systems using several different workloads? \n",
    "\\item Is comparing the mean performance sufficient? \n",
    "\\item What model best describes the relationship between two variables? Also, how good is the model? \n",
    "\\end{enumerate}\n"
   ]
  },
  {
   "cell_type": "markdown",
   "metadata": {},
   "source": [
    "### 4.1 Statistical Concepts\n",
    "\n",
    "1.  __Independent Events__: Two events are called independent if the occurrence of one event does not in any way affect the probability of the other event. Thus, knowing that one event has occurred does not in any way change our estimate of the probability of the other event. \n",
    "2.  __Random Variable__: A variable is called a random variable if it takes one of a specified set of values with a specified probability. \n",
    "3.  __Cumulative Distribution Function__: The Cumulative Distribution Function (CDF) of a random variable maps a given value $a$ to the probability of the variable taking a value less than or equal to $a$: \n",
    "$$F_x(a) = P(x \\leq a)$$ \n",
    "\n",
    "4.  __Probability Density Function__: The derivative  \n",
    "$$\n",
    "f(x)=\\frac{dF(x)}{dx}\n",
    "$$\n",
    "of the CDF $F(x)$ is called the probability density function (pdf) of $x$. Given a pdf $f(x)$, the probability of $x$ being in the interval $(x_1, x_2)$ can also be computed by integration: \n",
    "\n",
    "$$\n",
    "P\\left(x_{1}<x \\leq x_{2}\\right)=F\\left(x_{2}\\right)-F\\left(x_{1}\\right)=\\int_{x_{1}}^{x_{2}} f(x) d x\n",
    "$$\n",
    "\n",
    "\n",
    "5.  __Probability Mass Function__: For discrete random variable, the CDF is not continuous and, therefore, not differentiable. In such cases, the probability mass function (pmf) is used in place of pdf. Consider a discrete random variable $x$ that can take $n$ distinct values ${x_1, x_2, \\ldots, x_n}$ with probabilities ${p_1, p_2, \\ldots, p_n}$ such that the probability of the ith value $x_i$ is $p_i$. The pmf maps $x_i$ to $p_i$: \n",
    "$$f(x_i)=p_i$$.\n",
    "The probability of $x$ being in the interval $(x_1, x_2)$ can also be computed by summation: \n",
    "\n",
    "$$\n",
    "P\\left(x_{1}<x \\leq x_{2}\\right)=F\\left(x_{2}\\right)-F\\left(x_{1}\\right)=\\sum_{i \\atop x_{1}<x_{i} \\leq x_{2}} p_{i}\n",
    "$$\n",
    "\n",
    "6.  __Mean or Expected Value__: \n",
    "\n",
    "$$\n",
    "\\operatorname{Mean} \\mu=E(x)=\\sum_{i=1}^{n} p_{i} x_{i}=\\int_{-\\infty}^{+\\infty} xf(x)dx\n",
    "$$\n",
    "Summation is used for discrete and integration for continuous variables, respectively. \n",
    "\n",
    "7.  __Variance__: The quantity $(x – \\mu)^2$ represents the square of distance between $x$ and its mean. The expected value of this quantity is called the variance $x$: \n",
    "\n",
    "$$\n",
    "\\operatorname{Var}(x)=E\\left[(x-\\mu)^{2}\\right]=\\sum_{i=1}^{n} p_{i}\\left(x_{i}-\\mu\\right)^{2}=\\int_{-\\infty}^{+\\infty}\\left(x_{i}-\\mu\\right)^{2}f(x)dx\n",
    "$$\n",
    "\n",
    "\n",
    "The variance is traditionally denoted by $\\sigma^2$. The square root of the variance is called the standard deviation and is denoted by $\\sigma$. \n",
    "\n",
    "\n",
    "8.  __Coefficient of Variation__: The ratio of the standard deviation to the mean is called the Coefficient of Variation (C.O.V.): \n",
    "\n",
    "$$\n",
    "\\text { C.O.V. }=\\frac{\\text { standard deviation }}{\\text { mean }}=\\frac{\\sigma}{\\mu}\n",
    "$$\n",
    "\n",
    "\n",
    "9.  __Covariance__: Given two random variables $x$ and $y$ with means $\\mu_x$ and $\\mu_y$, their covariance is \n",
    "\n",
    "$$\n",
    "\\operatorname{Cov}(x, y)=\\sigma_{x y}^{2}=E\\left[\\left(x-\\mu_{x}\\right)\\left(y-\\mu_{y}\\right)\\right]=E(x y)-E(x) E(y)\n",
    "$$\n",
    "\n",
    "\n",
    "For independent variables, the covariance is zero since \n",
    "$$E(xy) = E(x)E(y)$$  \n",
    "\n",
    "\n",
    "Although independence always implies zero covariance, the reverse is not true. It is possible for two variables to be dependent and still have zero covariance. \n",
    "\n",
    "10.  __Correlation Coefficient__: The normalized value of covariance is called the correlation coefficient or simply the correlation \n",
    "\n",
    "$$\n",
    "\\text { Correlation }(x, y)=\\rho_{x y}=\\frac{\\sigma_{x y}^{2}}{\\sigma_{x} \\sigma_{y}}\n",
    "$$\n",
    "\n",
    "The correlation always lies between -1 and +1. \n",
    "\n",
    "11.  __Mean and Variance of Sums__: If $x_1, x_2, \\ldots, x_k$ are $k$ random variables and if $a_1, a_2, \\ldots, a_k$ are $k$ arbitrary constants (called weights), then \n",
    "\n",
    "\n",
    "\\begin{array}{c}{E\\left(a_{1} x_{1}+a_{2} x_{2}+\\ldots+a_{k} x_{k}\\right)=a_{1} E\\left(x_{1}\\right)+} \\\\ {a_{2} E\\left(x_{2}\\right)+\\ldots+a_{k} E\\left(x_{k}\\right)}\\end{array}\n",
    "\n",
    "\n",
    "\n",
    "For independent variables, \n",
    "\n",
    "\n",
    "\\begin{array}{l}{\\operatorname{Var}\\left(a_{1} x_{1}+a_{2} x_{2}+\\ldots+a_{k} x_{k}\\right)=a^{2} \\operatorname{Var}\\left(x_{1}\\right)} \\\\ {\\quad+a_{2}^{2} \\operatorname{Var}\\left(x_{2}\\right)+\\ldots+a_{k}^{2} \\operatorname{Var}\\left(x_{k}\\right)}\\end{array}\n",
    "\n",
    "\n",
    "12.  __Quantile__: The x value at which the CDF takes a value $α$ is called the $\\alpha$-quantile or 100$\\ alpha$-percentile. It is denoted by $x_\\alpha$ and is such that the probability of $x$ being less than or equal to $x_\\alpha$ is $\\alpha$: \n",
    "\n",
    "$$\n",
    "P\\left(x \\leq x_{\\alpha}\\right)=F\\left(x_{\\alpha}\\right)=\\alpha\n",
    "$$\n",
    "\n",
    "\n",
    "13.  __Median__: The 50-percentile (or 0.5-quantile) of a random variable is called its median. \n",
    "\n",
    "14.  __Mode__: The most likely value, that is, $x_i$, that has the highest probability $p_i$, or the $x$ at which pdf is maximum, is called the mode of x. \n",
    "\n",
    "15.  __Normal Distribution__: This is the most commonly used distribution in data analysis. The sum of a large number of independent observations from any distribution has a normal distribution. Also known as Gaussian distribution, its pdf is given by \n",
    "\n",
    "$$\n",
    "f(x)=\\frac{1}{\\sigma \\sqrt{2 \\pi}} e^{-(x-\\mu)^{2} / 2 \\sigma^{2}}, \\quad-\\infty \\leq x \\leq+\\infty\n",
    "$$\n",
    "\n",
    "There are two parameters $\\mu$ and $\\sigma$, which are also the mean and standard deviations of x. A normal variate is denoted by $N(\\mu, \\sigma)$. A normal distribution with zero mean and unit variance is called a __unit normal__ or __standard normal distribution__ and is denoted as $N(0, 1)$. In statistical modeling, you will frequently need to use quantiles of the unit normal distribution. An $\\alpha$-quantile of a unit normal variate $z ~ N(0, 1)$ is denoted by $z_\\alpha$. If a random variable x has a $z \\sim N(\\mu, \\sigma)$ distribution, then $(x - \\mu)/\\sigma$ has a $N(0, 1)$ distribution. Thus,\n",
    "\n",
    "$$\n",
    "P\\left(\\frac{x-\\mu}{\\sigma} \\leq z_{\\alpha}\\right)=\\alpha\n",
    "$$\n",
    "\n",
    "or \n",
    "\n",
    "$$\n",
    "P\\left(x \\leq \\mu+z_{\\alpha} \\sigma\\right)=\\alpha\n",
    "$$\n",
    "\n",
    "The areas under the unit normal pdf between 0 and z for various values of z are listed in various tables in statistics books or following python function:\n",
    "\n",
    "    from math import *\n",
    "    def phi(x):\n",
    "        #'Cumulative distribution function for the standard normal distribution'\n",
    "        return (1.0 + erf(x / sqrt(2.0))) / 2.0\n",
    "\n",
    "There are two main reasons for the popularity of the normal distribution:\n",
    "\n",
    "(a)  The sum of n independent normal variates is a normal variate. If $x_i \\sim  N(\\mu_i, \\sigma_i)$, then $x=\\sum_{i=1}^{n} a_{i} x_{i}$ has a normal distribution with mean $\\mu=\\sum_{i=1}^{n} a_{i} \\mu_{i}$ and variance $\\sigma^{2}=\\sum_{i=1}^{n} a^{2} \\sigma_{i}^{2}$ . As a result of this linearity property, normal processes remain normal after passing through linear systems, which are popular in electrical engineering.\n",
    "(b)  The sum of a large number of independent observations from any distribution tends to have a normal distribution. This result, which is called the __central limit theorem__, is true for observations from all distributions. As a result of this property, experimental errors, which are contributed by many factors, are modeled with a normal distribution. "
   ]
  },
  {
   "cell_type": "markdown",
   "metadata": {},
   "source": [
    "#### Expected Value of a Random Variable\n",
    "\n",
    "Let $X$ be a random variable with a finite number of finite outcomes $${\\displaystyle x_{1},x_{2},\\ldots ,x_{k}}$$ occurring with probabilities $${\\displaystyle p_{1},p_{2},\\ldots ,p_{k},}$$ respectively. The expectation of $X$ is defined as\n",
    "\n",
    "$$\n",
    "\\mathrm{E}[X]=\\sum_{i=1}^{k} x_{i} p_{i}=x_{1} p_{1}+x_{2} p_{2}+\\cdots+x_{k} p_{k}\n",
    "$$\n",
    "\n",
    "Since all probabilities $p_{i}$ add up to 1 $({\\displaystyle p_{1}+p_{2}+\\cdots +p_{k}=1})$, the expected value is the weighted average, with $p_{i}$’s being the weights.\n",
    "\n",
    "If all outcomes $x_{i}$ are equiprobable (that is, ${\\displaystyle p_{1}=p_{2}=\\cdots =p_{k}})$, then the weighted average turns into the simple average. If the outcomes $x_{i}$ are not equiprobable, then the simple average must be replaced with the weighted average, which takes into account the fact that some outcomes are more likely than the others.\n",
    "\n",
    "#### Variation and Standard Deviation of a Random Variable\n",
    "\n",
    "\n",
    "The formula for the sample standard deviation is\n",
    "\n",
    "$$\n",
    "s=\\sqrt{\\frac{1}{N-1} \\sum_{i=1}^{N}\\left(x_{i}-\\bar{x}\\right)^{2}}\n",
    "$$\n",
    "\n",
    "where ${\\displaystyle \\textstyle \\{x_{1},\\,x_{2},\\,\\ldots ,\\,x_{N}\\}}$ are the observed values of the sample items, $\\textstyle {\\bar {x}}$ is the mean value of these observations, and $N$ is the number of observations in the sample."
   ]
  },
  {
   "cell_type": "markdown",
   "metadata": {},
   "source": [
    "There are two parameters $\\mu$ and $\\sigma$, which are also the mean and standard deviations of $x$. A normal variate is denoted by $N(\\mu, \\sigma)$. A normal distribution with zero mean and unit variance is called a unit normal or standard normal distribution and is denoted as $N(O, 1)$. In statistical modeling, you will frequently need to use quantiles of the unit normal distribution. An $\\alpha$-quantile of a unit normal variate $z ~ N(0, 1)$ is denoted by $z_\\alpha$. If a random variable $x$ has a $N(\\mu, \\sigma)$ distribution, then $(x – \\mu)/\\sigma$ has a $N(0, 1)$ distribution. Thus,\n",
    "\n",
    "\n",
    "$$\n",
    "P\\left(\\frac{x-\\mu}{\\sigma} \\leq z_{\\alpha}\\right)=\\alpha\n",
    "$$\n",
    "\n",
    "or \n",
    "\n",
    "$$\n",
    "P\\left(x \\leq \\mu+z_{\\alpha} \\sigma\\right)=\\alpha\n",
    "$$\n",
    "\n",
    "\n",
    "The areas under the unit normal pdf between 0 and z for various values of z can be found from appropriate tables or computed by appropriate functions. \n",
    "\n"
   ]
  },
  {
   "cell_type": "code",
   "execution_count": 23,
   "metadata": {},
   "outputs": [
    {
     "data": {
      "image/png": "[encoded data removed]",
      "text/plain": [
       "<Figure size 432x288 with 1 Axes>"
      ]
     },
     "metadata": {
      "needs_background": "light"
     },
     "output_type": "display_data"
    }
   ],
   "source": [
    "#Examples\n",
    "\n",
    "#Draw samples from the distribution:\n",
    "\n",
    "\n",
    "mu, sigma = 0, 0.1 # mean and standard deviation\n",
    "s = np.random.normal(mu, sigma, 1000)\n",
    "#Verify the mean and the variance:\n",
    "\n",
    "\n",
    "abs(mu - np.mean(s)) < 0.01\n",
    "\n",
    "\n",
    "abs(sigma - np.std(s, ddof=1)) < 0.01\n",
    "\n",
    "#Display the histogram of the samples, along with the probability density function:\n",
    "\n",
    "\n",
    "import matplotlib.pyplot as plt\n",
    "count, bins, ignored = plt.hist(s, 30, density=True)\n",
    "plt.plot(bins, 1/(sigma * np.sqrt(2 * np.pi)) *\n",
    "               np.exp( - (bins - mu)**2 / (2 * sigma**2) ),\n",
    "         linewidth=2, color='r')\n",
    "plt.show()\n"
   ]
  },
  {
   "cell_type": "markdown",
   "metadata": {},
   "source": [
    "There are two main reasons for the popularity of the normal distribution:\n",
    "\n",
    "(a)  The sum of $n$ independent normal variates is a normal variate. If $x_i \\approx N(\\mu_i, \\sigma_i)$, then $x=\\sum_{i=1}^{n} a_{i} x_{i}$ has a normal distribution with mean $\\mu=\\sum_{i=1}^{n} a_{i} \\mu_{i}$ and variance $\\sigma^{2}=\\sum_{i=1}^{n} a_{i}^{2} \\sigma_{i}^{2}$. As a result of this linearity property, normal processes remain normal after passing through linear systems, which are popular in electrical engineering.\n",
    "(b)  The sum of a large number of independent observations from any distribution tends to have a normal distribution. This result, which is called the __central limit theorem__, is true for observations from all distributions. As a result of this property, experimental errors, which are contributed by many factors, are modeled with a normal distribution. \n"
   ]
  },
  {
   "cell_type": "markdown",
   "metadata": {},
   "source": [
    "### SUMMARIZING DATA BY A SINGLE NUMBER\n",
    "In the most condensed form, a single number may be presented that gives the key characteristic of the data set. This single number is usually called an __average__ of the data. To be meaningful, this average should be representative of a major part of the data set. Three popular alternatives to summarize a sample are to specify its __mean, median, or mode__. These measures are what statisticians call __indices of central tendencies__. The name is based on the fact that these measures specify the center of location of the distribution of the observations in the sample.\n",
    "\n",
    "__Sample mean__ is obtained by taking the sum of all observations and dividing this sum by the number of observations in the sample. __Sample median__ is obtained by sorting the observations in an increasing order and taking the observation that is in the middle of the series. If the number of observations is even, the mean of the middle two values is used as a median. __Sample mode__ is obtained by plotting a histogram and specifying the midpoint of the bucket where the histogram peaks. For categorical variables, mode is given by the category that occurs most frequently.\n",
    "\n",
    "The word __sample__ in the names of these indices signifies the fact that the values obtained are based on just one sample. However, if it is clear from the context that the discussion is about a single sample, and there is no ambiguity, the shorter names __mean, median, and mode__ can be used.\n",
    "\n",
    "Mean and median always exist and are unique. Given any set of observations, the mean and median can be determined. Mode, on the other hand, may not exist. An example of this would be if all observations were equal. In addition, even if modes exist, they may not be unique. There may be more than one mode, that is, there may be more than one local peak in the histogram.\n",
    "\n",
    "<img src=\"images/Figure12.1.png\">\n",
    "\n",
    "FIGURE 1  Five distributions showing relationships among mean, median, and mode.\n",
    "\n",
    "\n",
    "The three indices are generally different. Figure 1 shows five different pdf’s. Distribution (a) has a unimodal, symmetrical pdf. In this case, the mode exists with the mean, median, and mode being equal. Distribution (b) has a bimodal, symmetrical pdf. In this case, the mode is not unique. The median and mean are equal. Distribution (c) is a uniform density function. There is no mode and the mean and median are equal. Distribution (d) has a pdf skewed to the right (with a tail toward the right). For this distribution, the value of the mean is greater than the median, which in turn is greater than the mode. Finally, distribution (e) has a pdf skewed to the left; that is, it has a tail on the left. In this case, the mean is less than the median, which is less than the mode.\n",
    "\n",
    "The main problem with the mean is that it is affected more by outliers than the median or mode. A single outlier can make a considerable change in the mean. This is particularly true for small samples. Median and mode are resistant to several outlying observations.\n",
    "\n",
    "The mean gives equal weight to each observation and in this sense makes full use of the sample. Median and mode ignore a lot of the information.\n",
    "\n",
    "The mean has an additivity or linearity property in that the mean of a sum is a sum of the means. This does not apply to the mode or median."
   ]
  },
  {
   "cell_type": "markdown",
   "metadata": {},
   "source": [
    "### SELECTING AMONG THE MEAN, MEDIAN, AND MODE\n",
    "A common mistake inexperienced analysts make is to specify the wrong index of central tendency. For example, it is common to specify the mean regardless of its validity in a particular situation. \n",
    "\n",
    "The flow chart of Figure 12.2 shows a set of guidelines to select a proper index of central tendency. The first consideration is the type of variable. If the variable is categorical, the mode is the proper single measure that best describes that data. An example of categorical data is the type of microprocessor in various workstations. A statement such as “the most frequent microprocessor used in workstations is the 68000” makes sense. The mean or median of the type of processor is meaningless.\n",
    "\n",
    " \n",
    "\n",
    "\n",
    "The second consideration in selecting the index is to ask whether the total of all observations is of any interest. If yes, then the mean is a proper index of central tendency. For example, total CPU time for five queries is a meaningful number. On the other hand, if we count number of windows on the screen during each query, the total number of windows during five queries does not seem to be meaningful. If the total is of interest, specify the mean. \n",
    "\n",
    " <img src=\"images/Figure12.2.png\">\n",
    " \n",
    "FIGURE 2  Selecting among the mean, meadian, and mode.\n",
    "\n",
    "If the total is of no interest, one has to choose between median and mode. If the histogram is symmetrical and unimodal, the mean, median, and mode are all equal and it does not really matter which one is specified. \n",
    "\n",
    "If the histogram is skewed, the median is more representative of a typical observation than the mean. For example, the number of disk drives on engineering workstations is expected to have skewed distribution, and therefore, it is appropriate to specify the median number. One simple to way to determine skewness for small samples is to examine the ratio of the maximum and minimum, ymax/ymin, of the observations. If the ratio is large, the data is skewed.\n",
    "\n",
    "The following are examples of selections of indices of central tendencies:\n",
    "\n",
    "* Most Used Resource in a System: Resources are categorical and hence the mode must be used. \n",
    "*  Interarrival Time: Total time is of interest and so the mean is the proper choice. \n",
    "*  Load on a Computer: The median is preferable due to a highly skewed distribution. \n",
    "* Average Configuration: Medians of number devices, memory sizes, and number of processors are generally used to specify the configuration due to the skewness of the distribution. "
   ]
  },
  {
   "cell_type": "markdown",
   "metadata": {},
   "source": [
    "### SUMMARIZING VARIABILITY\n",
    "\n",
    "_Then there is the man who drowned crossing a stream with an average depth of six inches._\n",
    "\n",
    "— W. I. E. Gates\n",
    "\n",
    "Given a data set, summarizing it by a single number is rarely enough. It is important to include a statement about its variability in any summary of the data. This is because given two systems with the same mean performance, one would generally prefer one whose performance does not vary much from the mean. For example, Figure 3 shows histograms of the response times of two systems. Both have the same mean response time of 2 seconds. In case (a), the response time is always close to its mean value, while in case (b), the response time can be 1 millisecond sometimes and 1 minute at other times. Which system would you prefer? Most people would prefer the system with low variability. \n",
    "\n",
    "<img src=\"images/Figure12.3.png\">\n",
    "FIGURE 12.3  Histograms of response times of two systems.\n",
    "\n",
    "Variability is specified using one of the following measures, which are called indices of dispersion:\n",
    "\n",
    "*  Range — minimum and maximum of the values observed \n",
    "*  Variance or standard deviation \n",
    "*  10- and 90-percentiles \n",
    "*  Semi-interquantile range \n",
    "*  Mean absolute deviation \n",
    "\n",
    "\n",
    "The range of a stream of values can be easily calculated by keeping track of the minimum and the maximum. The variability is measured by the difference between the maximum and the minimum. The larger the difference, the higher the variability. In most cases, the range is not very useful. The minimum often comes out to be zero and the maximum comes out to be an “outlier” far from typical values. Unless there is a reason for the variable to be bounded between two values, the maximum goes on increasing with the number of observations, the minimum goes on decreasing with the number of observations, and there is no “stable” point that gives a good indication of the actual range. The conclusion is that the range is useful if and only if there is a reason to believe that the variable is bounded. The range gives the best estimate of these bounds.\n",
    "\n",
    "The variance of a sample of n observations ${x_1, x_2, \\dots, x_n}$ is calculated as follows:\n",
    "\n",
    "$$\n",
    "s^{2}=\\frac{1}{n-1} \\sum_{i=1}^{n}\\left(x_{i}-\\bar{x}\\right)^2 \\quad \\text { where } \\quad \\bar{x}=\\frac{1}{n} \\sum_{i=1}^{n} x_{i}\n",
    "$$\n",
    "\n",
    "The quantity $s^2$ is called the **sample variance** and its square root s is called the **sample standard deviation**. The word sample can be dropped if there is no ambiguity and it it is clear from the context that the quantities refer to just one sample. Notice that in computing the variance, the sum of squares  is divided by $n - 1$ and not n. This is because only $n - 1$ of the n differences  are independent. Given $n - 1$ differences, the nth difference can be computed since the sum of all $n$ differences must be zero. The number of independent terms in a sum is also called its *degrees of freedom*.\n",
    "\n",
    "\n",
    "\n",
    "\n"
   ]
  },
  {
   "cell_type": "markdown",
   "metadata": {},
   "source": [
    "In practice, the main problem with variance is that it is expressed in units that are the square of the units of the observations. For example, the variance of response time could be 4 seconds squared or 4,000,000 milliseconds squared. Changing the unit of measurement has a squared effect on the numerical magnitude of the variance. For this reason, it is preferable to use the standard deviation. It is in the same unit as the mean, which allows us to compare it with the mean. Thus, if the mean response time is 2 seconds and the standard deviation is 2 seconds, there is considerable variability. On the other hand, a standard deviation of 0.2 second for the same mean would be considered small. In fact, the ratio of standard deviation to the mean, or the coefficient of variation (C.O.V.), is even better because it takes the scale of measurement (unit of measurement) out of variability consideration. A C.O.V. of 5 is large, and a C.O.V. of 0.2 (or 20%) is small no matter what the unit is. \n",
    "\n",
    "Percentiles are also a popular means of specifying dispersion. Specifying the 5-percentile and the 95-percentile of a variable has the same impact as specifying its minimum and maximum. However, it can be done for any variable, even for variables without bounds. When expressed as a fraction between 0 and 1 (instead of a percentage), the percentiles are also called quantiles. Thus 0.9-quantile is the same as 90-percentile. \n",
    "\n",
    "Another term used is fractile, which is synonymous with quantile. The percentiles at multiples of 10% are called deciles. Thus, the first decile is 10-percentile, the second decile is 20-percentile, and so on. Quartiles divide the data into four parts at 25, 50, and 75%. Thus, 25% of the observations are less than or equal to the first quartile $Q_1$, 50% of the observations are less than or equal to the second quartile $Q_2$, and 75% are less than or equal to the third quartile $Q_3$. Notice that the second quartile $Q_2$ is also the median. The $\\alpha$-quantiles can be estimated by sorting the observations and taking the $[(n-1)\\alpha+1]$th element in the ordered set. Here, $[.]$ is used to denote rounding to the nearest integer. For quantities exactly halfway between two integers, use the lower integer.\n",
    "\n",
    "The range between $Q_3$ and $Q_1$ is called the interquartile range of the data. One half of this range is called Semi-Interquartile Range (SIQR), that is,\n",
    "\n",
    "$$\n",
    "\\operatorname{SIQR}=\\frac{Q_{3}-Q_{1}}{2}=\\frac{x_{0.75}-x_{0.25}}{2}\n",
    "$$\n",
    "\n",
    "Another measure of dispersion is the mean absolute deviation, which is calculated as follows:\n",
    "\n",
    "$$\n",
    "\\text { Mean absolute deviation }=\\frac{1}{n} \\sum_{i=1}^{n}\\left|x_{i}-x\\right|\n",
    "$$\n",
    "\n",
    "The key advantage of the mean absolute deviation over the standard deviation is that no multiplication or square root is required. \n",
    "\n",
    "Among the preceding indices of dispersion, the range is affected considerably by outliers. The sample variance is also affected by outliers, but the effect is less than that on the range. The mean absolute deviation is next in resistance to outliers. The semi-interquantile range is very resistant to outliers. It is preferred to the standard deviation for the same reasons that the median is preferred to the mean. Thus, if the distribution is highly skewed, outliers are highly likely and the SIQR is more representative of the spread in the data than the standard deviation. In general, the SIQR is used as an index of dispersion whenever the median is used as an index of central tendency.\n",
    "\n",
    "Finally, it should be mentioned that all of the preceding indices of dispersion apply only for quantitative data. For qualitative (categorical) data, the dispersion can be specified by giving the number of most frequent categories that comprise the given percentile, for instance, the top 90%.\n",
    "\n",
    "\\begin{example}\n",
    "In an experiment, which was repeated 32 times, the measured CPU time was found to be {3.1, 4.2, 2.8, 5.1, 2.8, 4.4, 5.6, 3.9, 3.9, 2.7, 4.1, 3.6, 3.1, 4.5, 3.8, 2.9, 3.4, 3.3, 2.8, 4.5, 4.9, 5.3, 1.9, 3.7, 3.2, 4.1, 5.1, 3.2, 3.9, 4.8, 5.9, 4.2}. The sorted set is {1.9, 2.7, 2.8, 2.8, 2.8, 2.9, 3.1, 3.1, 3.2 3.2, 3.3, 3.4, 3.6, 3.7, 3.8, 3.9, 3.9, 3.9, 4.1, 4.1, 4.2, 4.2, 4.4, 4.5, 4.5, 4.8, 4.9, 5.1, 5.1, 5.3, 5.6, 5.9}. Then \n",
    "\n",
    "    The 10-percentile is given by [1 + (31)(0.10)] = 4th element = 2.8. \n",
    "      \n",
    "    The 90-percentile is given by [1 + (31)(0.90)] = 29th element = 5.1.\n",
    "    \n",
    "    The first quartile $Q_1$ is given by [1 + (31)(0.25)] = 9th element = 3.2. \n",
    "    \n",
    "    The median $Q_2$ is given by [1 + (31)(0.50)] = 16th element = 3.9. \n",
    "    \n",
    "    The third quartile $Q_3$ is given by [1 + (31)(0.75)] = 24th element = 4.5. \n",
    "\\end{example}\n",
    "\n",
    "\n",
    "Thus, \n",
    "\n",
    "$$\n",
    "\\mathrm{SIOR}=\\frac{Q_{3}-Q_{1}}{2}=\\frac{4.5-3.2}{2}=0.65\n",
    "$$\n",
    "\n"
   ]
  },
  {
   "cell_type": "markdown",
   "metadata": {},
   "source": [
    "### Summarizing Observations \n",
    "Given: A sample ${x_1, x_2, \\dots, x_n}$ of n observations. \n",
    "1.  Sample arithmetic mean:  $\\bar{x}=\\frac{1}{n} \\sum_{i=1}^{n} x_{i}$\n",
    "2.  Sample geometric mean:  $\\dot{x}=\\left(\\prod_{i=1}^{n} x_{i}\\right)^{1 / n}$\n",
    "3.  Sample harmonic mean:  $x=\\frac{n}{\\frac{1}{x_{1}}+\\frac{1}{x_{2}}+\\cdots+\\frac{1}{x_{n}}}$\n",
    "4.  Sample median: $$\\left\\{\\begin{array}{ll}{x_{((n-1) / 2)}} & {\\text { if } n \\text { is odd }} \\\\ {0.5\\left(x_{(n / 2)}+x_{((1+n) / 2)}\\right)} & {\\text { otherwise }}\\end{array}\\right.$$\n",
    "Here x(i) is the ith observation in the sorted set. \n",
    "5.  Sample mode = observation with the highest frequency (for categorical data). \n",
    "6.  Sample variance:  $s^{2}=\\frac{1}{n-1} \\sum_{i=1}^{n}\\left(x_{i}-\\bar{x}\\right)^{2}$\n",
    "7.  Sample standard deviation:  $s=\\sqrt{\\frac{1}{n-1} \\sum_{i=1}^{n}\\left(x_{i}-\\bar{x}\\right)^{2}}$\n",
    "8.  Coefficient of variation =  $\\frac{s}{\\bar{x}}$\n",
    "9.  Coefficient of skewness =  $=\\frac{1}{n s^{3}} \\sum_{i=1}^{n}\\left(x_{i}-\\bar x\\right)^{3}$\n",
    "10.  Range: Specify the minimum and maximum. \n",
    "11.  Percentiles: 100p-percentile  \n",
    "12.  Semi-interquartile range  $\\mathrm{SIQR}=\\frac{Q_{3}-Q_{1}}{2}=\\frac{x_{0.75}-x_{025}}{2}$\n",
    "13.  Mean absolute deviation $=\\frac{1}{n} \\sum_{i=1}^{n}\\left|x_{i}-\\bar{x}\\right|$"
   ]
  },
  {
   "cell_type": "markdown",
   "metadata": {},
   "source": [
    "### DETERMINING DISTRIBUTION OF DATA\n",
    "In the last two cells we discussed how a measured data set could be summarized by stating its average and variability. The next step in presenting a summary could be to state the type of distribution the data follows. For example, a statement that the number of disk I/O’s are uniformly distributed between 1 and 25 is a more meaningful summary than to specify only that the mean is 13 and the variance is 48. The distribution information is also required if the summary has to be used later in simulation or analytical modeling. \n",
    "\n",
    "The simplest way to determine the distribution is to plot a histogram of the observations. This requires determining the maximum and minimum of the values observed and dividing the range into a number of subranges called cells or buckets. The count of observations that fall into each cell is determined. The counts are normalized to cell frequencies by dividing by the total number of observations. The cell frequencies are plotted as a column chart.\n",
    "\n",
    "The key problem in plotting histograms is determining the cell size. Small cells lead to very few observations per cell and a large variation in the number of observations per cell. Large cells result in less variation but the details of the distribution are completely lost. Given a data set, it is possible to reach very different conclusions about the distribution shape depending upon the cell size used. One guideline is that if any cell has less than five observations, the cell size should be increased or a variable cell histogram should be used.\n",
    "\n",
    "A better technique for small samples is to plot the observed quantiles versus the theoretical quantile in a quantile-quantile plot. Suppose, $y_(i)$ is the observed $q_i$th quantile. Using the theoretical distribution, the $q_i$th quantile $x_i$ is computed and a point is plotted at $(x_i, y_(i))$. If the observations do come from the given theoretical distribution, the quantile-quantile plot would be linear.\n",
    "\n",
    "To determine the $q_i$th quantile $x_i$, we need to invert the cumulative distribution function. For example, if $F(x)$ is the CDF for the assumed distribution,\n",
    "\n",
    "$$\n",
    "q_{i}=F\\left(x_{i}\\right)\n",
    "$$\n",
    "\n",
    "or \n",
    "\n",
    "$$\n",
    "x_{i}=F^{-1}\\left(q_{i}\\right)\n",
    "$$\n",
    "\n",
    "\n",
    "For those distributions whose CDF can be inverted, determining the x-coordinate of points on a quantile-quantile plot is straightforward. \n",
    "\n",
    "For other distributions one can use tables and interpolate the values if necessary. For the unit normal distribution $N(0, 1)$, the following approximation is often used:\n",
    "\n",
    "$$\n",
    "x_{i}=4.91\\left[q_{i}^{0.14}-\\left(1-q_{i}\\right)^{0.14}\\right]\n",
    "$$\n",
    "\n",
    "For $N(\\mu, \\sigma)$, the $x_i$ values computed by the above Equation  are scaled to $\\mu + \\sigma x_i$ before plotting.\n",
    "\n",
    "One advantage of a quantile-quantile plot is that often it is sufficient to know the name of the possible distribution. The parameter values are not required. This happens if the effect of the parameters is simply to scale the quantile. For example, in a normal quantile-quantile plot, x-coordinates can be obtained using the unit normal $N(0, 1)$ distribution. The intercept and the slope of the resulting line give the values of location and shape parameters $\\mu$ and $\\sigma$.\n",
    "\n",
    "\\begin{example}\n",
    "The difference between the values measured on a system and those predicted by a model is called modeling error. The modeling error for eight predictions of a model were found to be -0.04, -0.19, 0.14, -0.09, -0.14, 0.19, 0.04, and 0.09. \n",
    "\n",
    "\\end{example}\n"
   ]
  },
  {
   "cell_type": "code",
   "execution_count": 25,
   "metadata": {},
   "outputs": [
    {
     "name": "stdout",
     "output_type": "stream",
     "text": [
      "First 10 points (of 1000): [ 1.76405235  0.40015721  0.97873798  2.2408932   1.86755799 -0.97727788\n",
      "  0.95008842 -0.15135721 -0.10321885  0.4105985 ]\n",
      "count    1000.000000\n",
      "mean       -0.045257\n",
      "std         0.987527\n",
      "min        -3.046143\n",
      "25%        -0.698420\n",
      "50%        -0.058028\n",
      "75%         0.606951\n",
      "max         2.759355\n",
      "dtype: float64\n"
     ]
    }
   ],
   "source": [
    "# Setup\n",
    "import numpy as np \n",
    "import pandas as pd\n",
    "import matplotlib.pyplot as plt\n",
    "import scipy.stats as stats\n",
    "\n",
    "np.random.seed(0)\n",
    "\n",
    "mu = 0  # mean\n",
    "sigma = 1  # standard deviation\n",
    "\n",
    "points = np.random.normal(mu, sigma, 1000)\n",
    "\n",
    "print(\"First 10 points (of 1000):\", points[:10])\n",
    "print(pd.Series(points).describe())"
   ]
  },
  {
   "cell_type": "code",
   "execution_count": 24,
   "metadata": {},
   "outputs": [],
   "source": [
    "def plot_histogram_and_qq(points, mu, sigma, distribution_type=\"norm\"):\n",
    "  # Plot histogram of the 1000 points\n",
    "  plt.figure(figsize=(12,6))\n",
    "  ax = plt.subplot(1,2,1)\n",
    "  count, bins, ignored = plt.hist(points, 30, normed=True)\n",
    "  ax.set_title('Histogram')\n",
    "  ax.set_xlabel('Value bin')\n",
    "  ax.set_ylabel('Frequency')\n",
    "\n",
    "  # Overlay the bell curve (normal distribution) on the bins data\n",
    "  bell_curve = 1/(sigma * np.sqrt(2 * np.pi)) * np.exp( - (bins - mu)**2 / (2 * sigma**2))\n",
    "  plt.plot(bins, bell_curve, linewidth=2, color='r')\n",
    "\n",
    "  # Q-Q plot\n",
    "  plt.subplot(1,2,2)\n",
    "  res = stats.probplot(points, dist=distribution_type, plot=plt)\n",
    "  (osm, osr) = res[0]\n",
    "  (slope, intercept, r) = res[1]\n",
    "  # For details see: https://docs.scipy.org/doc/scipy-0.14.0/reference/generated/scipy.stats.probplot.html\n",
    "  print(\"slope, intercept, r:\", slope, intercept, r)\n",
    "  print(\"r is the square root of the coefficient of determination\")\n",
    "\n",
    "  plt.show()"
   ]
  },
  {
   "cell_type": "code",
   "execution_count": 26,
   "metadata": {},
   "outputs": [
    {
     "name": "stderr",
     "output_type": "stream",
     "text": [
      "C:\\Users\\IliasAlexis\\Anaconda3\\lib\\site-packages\\ipykernel_launcher.py:5: MatplotlibDeprecationWarning: \n",
      "The 'normed' kwarg was deprecated in Matplotlib 2.1 and will be removed in 3.1. Use 'density' instead.\n",
      "  \"\"\"\n"
     ]
    },
    {
     "name": "stdout",
     "output_type": "stream",
     "text": [
      "slope, intercept, r: 0.9892713568120576 -0.045256707490195364 0.9994824641317025\n",
      "r is the square root of the coefficient of determination\n"
     ]
    },
    {
     "data": {
      "image/png": "[encoded data removed]",
      "text/plain": [
       "<Figure size 864x432 with 2 Axes>"
      ]
     },
     "metadata": {
      "needs_background": "light"
     },
     "output_type": "display_data"
    }
   ],
   "source": [
    "# Run on the initial normally distributed data\n",
    "plot_histogram_and_qq(points, mu, sigma)"
   ]
  },
  {
   "cell_type": "code",
   "execution_count": 27,
   "metadata": {},
   "outputs": [
    {
     "name": "stdout",
     "output_type": "stream",
     "text": [
      "First 10 points (of 1000): [ 2.57523127  1.60422898  3.06462078  3.73260086  2.19798091  3.95386467\n",
      "  0.91815909 -3.70296317 -3.88598788 -1.263169  ]\n",
      "count    1000.000000\n",
      "mean        0.102926\n",
      "std         2.337933\n",
      "min        -3.999410\n",
      "25%        -1.851285\n",
      "50%         0.225588\n",
      "75%         2.152776\n",
      "max         3.988213\n",
      "dtype: float64\n"
     ]
    },
    {
     "name": "stderr",
     "output_type": "stream",
     "text": [
      "C:\\Users\\IliasAlexis\\Anaconda3\\lib\\site-packages\\ipykernel_launcher.py:5: MatplotlibDeprecationWarning: \n",
      "The 'normed' kwarg was deprecated in Matplotlib 2.1 and will be removed in 3.1. Use 'density' instead.\n",
      "  \"\"\"\n"
     ]
    },
    {
     "name": "stdout",
     "output_type": "stream",
     "text": [
      "slope, intercept, r: 2.288755908442107 0.10292591860780509 0.9767335657066317\n",
      "r is the square root of the coefficient of determination\n"
     ]
    },
    {
     "data": {
      "image/png": "[encoded data removed]",
      "text/plain": [
       "<Figure size 864x432 with 2 Axes>"
      ]
     },
     "metadata": {
      "needs_background": "light"
     },
     "output_type": "display_data"
    }
   ],
   "source": [
    "points = np.random.uniform(low=-4, high=4, size=1000)\n",
    "\n",
    "print(\"First 10 points (of 1000):\", points[:10])\n",
    "print(pd.Series(points).describe())\n",
    "\n",
    "# Run on the initial setup\n",
    "plot_histogram_and_qq(points, mu, sigma)"
   ]
  },
  {
   "cell_type": "code",
   "execution_count": 40,
   "metadata": {},
   "outputs": [
    {
     "name": "stderr",
     "output_type": "stream",
     "text": [
      "C:\\Users\\IliasAlexis\\Anaconda3\\lib\\site-packages\\ipykernel_launcher.py:5: MatplotlibDeprecationWarning: \n",
      "The 'normed' kwarg was deprecated in Matplotlib 2.1 and will be removed in 3.1. Use 'density' instead.\n",
      "  \"\"\"\n"
     ]
    },
    {
     "name": "stdout",
     "output_type": "stream",
     "text": [
      "slope, intercept, r: 0.14768759695342298 0.01000000000000001 0.9796285130684926\n",
      "r is the square root of the coefficient of determination\n"
     ]
    },
    {
     "data": {
      "image/png": "[encoded data removed]",
      "text/plain": [
       "<Figure size 864x432 with 2 Axes>"
      ]
     },
     "metadata": {
      "needs_background": "light"
     },
     "output_type": "display_data"
    }
   ],
   "source": [
    "\n",
    "\n",
    "points = (0.04, -0.19, 0.14, -0.09, -0.14, 0.19, 0.04, 0.09)\n",
    "n = 8\n",
    "q=np.zeros(n)\n",
    "print(q)\n",
    "x = (0.157,-1.535,0.885,-0.487,-0.885 ,1.535 ,0.157 ,0.487 )\n",
    "for i in range(8):\n",
    "    q[i]= (i-0.5)/n\n",
    "mu=0\n",
    "sigma = 1\n",
    "plot_histogram_and_qq(points, mu, sigma)\n"
   ]
  },
  {
   "cell_type": "markdown",
   "metadata": {},
   "source": [
    "\n",
    "## Q Q Plots: Simple Definition & Example\n",
    "\n",
    "### Descriptive Statistics > Q Q plots\n",
    "\n",
    "\n",
    "Q Q Plots (Quantile-Quantile plots) are plots of two quantiles against each other. A quantile is a fraction where certain values fall below that quantile. For example, the median is a quantile where 50% of the data fall below that point and 50% lie above it. The purpose of Q Q plots is to find out if two sets of data come from the same distribution. A 45 degree angle is plotted on the Q Q plot; if the two data sets come from a common distribution, the points will fall on that reference line.\n",
    "\n",
    "\n",
    "### How to Make a Q Q Plot\n",
    "\n",
    "Sample question: Do the following values come from a normal distribution?\n",
    "7.19, 6.31, 5.89, 4.5, 3.77, 4.25, 5.19, 5.79, 6.79.\n",
    "\n",
    "    Step 1: Order the items from smallest to largest.\n",
    "    Step 2: Draw a normal distribution curve. Divide the curve into n+1 segments. We have 9 values, so divide the curve into 10 equally-sized areas. For this example, each segment is 10% of the area (because 100% / 10 = 10%).\n",
    "    Step 3: Find the z-value (cut-off point) for each segment in Step 3. These segments are areas, so refer to a z-table (or use software) to get a z-value for each segment."
   ]
  },
  {
   "cell_type": "code",
   "execution_count": 41,
   "metadata": {},
   "outputs": [
    {
     "name": "stdout",
     "output_type": "stream",
     "text": [
      "[0. 0. 0. 0. 0. 0. 0. 0. 0.]\n",
      "slope, intercept, r: 1.2768810949841627 5.52 0.9896069959517892\n",
      "r is the square root of the coefficient of determination\n"
     ]
    },
    {
     "name": "stderr",
     "output_type": "stream",
     "text": [
      "C:\\Users\\IliasAlexis\\Anaconda3\\lib\\site-packages\\ipykernel_launcher.py:5: MatplotlibDeprecationWarning: \n",
      "The 'normed' kwarg was deprecated in Matplotlib 2.1 and will be removed in 3.1. Use 'density' instead.\n",
      "  \"\"\"\n"
     ]
    },
    {
     "data": {
      "image/png": "[encoded data removed]",
      "text/plain": [
       "<Figure size 864x432 with 2 Axes>"
      ]
     },
     "metadata": {
      "needs_background": "light"
     },
     "output_type": "display_data"
    }
   ],
   "source": [
    "points = ( 7.19, 6.31, 5.89, 4.5, 3.77, 4.25, 5.19, 5.79, 6.79)\n",
    "n = 9\n",
    "q=np.zeros(n)\n",
    "print(q)\n",
    "for i in range(8):\n",
    "    q[i]= (i-0.5)/n\n",
    "mu=0\n",
    "sigma = 1\n",
    "plot_histogram_and_qq(points, mu, sigma)"
   ]
  },
  {
   "cell_type": "markdown",
   "metadata": {},
   "source": [
    "\\begin{exercise}\n",
    " A distributed system has three file servers, which are chosen independently and with equal probabilities whenever a new file is created. The servers are named A, B, and C. Determine the probabilities of the following events: \n",
    "a.  Server A is selected \n",
    "b.  Server A or B is selected \n",
    "c.  Servers A and B are selected \n",
    "d.  Server A is not selected \n",
    "e.  Server A is selected twice in a row \n",
    "f.  Server selection sequence ABCABCABC is observed (in nine successive file creations) \n",
    "\n",
    "\\end{exercise}\n",
    "\n",
    "\\begin{exercise}\n",
    "\n",
    "The traffic arriving at a network gateway is bursty. The burst size x is geometrically distributed with the following pmf. \n",
    "\n",
    "$$\n",
    "f(x)=(1-p)^{x-1} p, \\quad x=1,2, \\ldots, \\infty\n",
    "$$\n",
    "\n",
    "Compute the mean, variance, standard deviation, and coefficient of variation of the burst size. Plot the pmf and CDF for P = 0.2. \n",
    "\n",
    "\\end{exercise}\n",
    "\n",
    "\\begin{exercise}\n",
    "The number of I/O requests received at a disk during a unit interval follows a Poisson distribution with the following mass function: \n",
    "\n",
    "$$\n",
    "f(x)=\\lambda^{x} \\frac{e^{-\\lambda x}}{x !}, \\quad x=0,1,2 \\ldots, \\infty\n",
    "$$\n",
    "Here, $\\lambda$ is a parameter. Determine the mean, variance, and coefficient of variation of the number. Plot the pmf and CDF for $\\lambda$ = 8.\n",
    "\\end{exercise}\n",
    "\\begin{exercise}\n",
    "Two Poisson streams  merge at a disk. The pmf for the two streams are as follows: \n",
    "\n",
    "$$\n",
    "f(x)=\\lambda^{x} \\frac{e^{-\\lambda x}}{x !}, \\quad x=0,1,2, \\ldots, \\infty\n",
    "$$\n",
    "\n",
    "$$\n",
    "f(y)=\\lambda^{y} \\frac{e^{-\\lambda y}}{y !}, \\quad y=0,1,2, \\ldots, \\infty\n",
    "$$\n",
    "Determine the following: \n",
    "a.  Mean of $x + y$ \n",
    "b.  Variance of $x + y$ \n",
    "c.  Mean of $x - y$ \n",
    "d.  Variance of $x - y$ \n",
    "e.  Mean of $3x - 4y$ \n",
    "f.  Coefficient of variation of $3x - 4y$ \n",
    "\n",
    "\n",
    "\\end{exercise}\n",
    "\n",
    "\\begin{exercise}\n",
    "The response time of a computer system has an Erlang distribution with the following CDF: \n",
    "\n",
    "$$\n",
    "F(x)=1-e^{-x / a}\\left(\\sum_{i=0}^{m-1} \\frac{(x / a)^{i}}{i !}\\right)\n",
    "$$\n",
    "\n",
    "Find expressions for the pdf, mean, variance, mode, and coefficient of variation of the response time. \n",
    "\n",
    "\n",
    "\\end{exercise}\n",
    "\n",
    "\n",
    "\\begin{exercise}\n",
    "The execution times of queries on a database is normally distributed with a mean of 5 seconds and a standard deviation of 1 second. Determine the following: \n",
    "\n",
    "    a.  What is the probability of the execution time being more than 8 seconds? \n",
    "    \n",
    "    b.  What is the probability of the execution time being less than 6 seconds? \n",
    "    \n",
    "    c.  What percentage of responses will take between 4 and 7 seconds? \n",
    "    \n",
    "    d.  What is the 95-percentile execution time? \n",
    "\n",
    "\\end{exercise}\n",
    "\n",
    "\\begin{exercise}\n",
    "\n",
    "Plot a normal quantile-quantile plot for the following sample of errors: -0.04444  -0.04439  -0.04165  -0.03268  -0.03235  -0.03182  0.02771  0.02650  \n",
    "-0.02569  -0.02358  0.02330  0.02305  0.02213  0.02128  0.01793  0.01668  \n",
    "-0.01565  -0.01509  0.01432  0.00978  0.00889  0.00687  0.00543  0.00084  \n",
    "-0.00083  -0.00048  0.00024  0.00079  0.00082  0.00106  0.00110  0.00132  \n",
    "0.00162  0.00181  0.00280  0.00379  0.00411  0.00424  0.00553  0.00865  \n",
    "0.01026  0.01085  0.01440  0.01562  0.01975  0.01996  0.02016  0.02078  \n",
    "0.02134  0.02252  0.02414  0.02568  0.02682  0.02855  0.02889  0.03072  \n",
    "0.03259  0.03754  0.04263  0.04276  \n",
    "\n",
    "Are the errors normally distributed? \n",
    "\n",
    "\n",
    "\\end{exercise}\n"
   ]
  },
  {
   "cell_type": "code",
   "execution_count": null,
   "metadata": {
    "collapsed": true
   },
   "outputs": [],
   "source": []
  }
 ],
 "metadata": {
  "anaconda-cloud": {},
  "author": "",
  "kernelspec": {
   "display_name": "Python 3",
   "language": "python",
   "name": "python3"
  },
  "language_info": {
   "codemirror_mode": {
    "name": "ipython",
    "version": 3
   },
   "file_extension": ".py",
   "mimetype": "text/x-python",
   "name": "python",
   "nbconvert_exporter": "python",
   "pygments_lexer": "ipython3",
   "version": "3.6.6"
  },
  "latex_envs": {
   "LaTeX_envs_menu_present": true,
   "autoclose": false,
   "autocomplete": true,
   "bibliofile": "biblio.bib",
   "cite_by": "apalike",
   "current_citInitial": 1,
   "eqLabelWithNumbers": true,
   "eqNumInitial": 1,
   "hotkeys": {
    "equation": "Ctrl-E",
    "itemize": "Ctrl-I"
   },
   "labels_anchors": false,
   "latex_user_defs": false,
   "report_style_numbering": false,
   "user_envs_cfg": false
  },
  "nbTranslate": {
   "displayLangs": [
    "*"
   ],
   "hotkey": "alt-t",
   "langInMainMenu": true,
   "sourceLang": "en",
   "targetLang": "fr",
   "useGoogleTranslate": true
  },
  "toc": {
   "base_numbering": 1,
   "nav_menu": {},
   "number_sections": true,
   "sideBar": true,
   "skip_h1_title": false,
   "title_cell": "Table of Contents",
   "title_sidebar": "Contents",
   "toc_cell": false,
   "toc_position": {},
   "toc_section_display": true,
   "toc_window_display": false
  },
  "varInspector": {
   "cols": {
    "lenName": 16,
    "lenType": 16,
    "lenVar": 40
   },
   "kernels_config": {
    "python": {
     "delete_cmd_postfix": "",
     "delete_cmd_prefix": "del ",
     "library": "var_list.py",
     "varRefreshCmd": "print(var_dic_list())"
    },
    "r": {
     "delete_cmd_postfix": ") ",
     "delete_cmd_prefix": "rm(",
     "library": "var_list.r",
     "varRefreshCmd": "cat(var_dic_list()) "
    }
   },
   "types_to_exclude": [
    "module",
    "function",
    "builtin_function_or_method",
    "instance",
    "_Feature"
   ],
   "window_display": false
  }
 },
 "nbformat": 4,
 "nbformat_minor": 1
}
